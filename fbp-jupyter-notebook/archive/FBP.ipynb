{
 "cells": [
  {
   "cell_type": "code",
   "execution_count": 1,
   "metadata": {},
   "outputs": [],
   "source": [
    "# Importing required packages\n",
    "import pandas as pd\n",
    "import seaborn as sns\n",
    "import matplotlib.pyplot as plt\n",
    "from sklearn.ensemble import RandomForestClassifier\n",
    "from sklearn.svm import SVC\n",
    "from sklearn import svm\n",
    "from sklearn.neural_network import MLPClassifier\n",
    "from sklearn.metrics import confusion_matrix, classification_report, accuracy_score\n",
    "from sklearn.preprocessing import StandardScaler, LabelEncoder\n",
    "from sklearn.model_selection import train_test_split\n",
    "%matplotlib inline"
   ]
  },
  {
   "cell_type": "code",
   "execution_count": 2,
   "metadata": {},
   "outputs": [],
   "source": [
    "# Loading dataset\n",
    "odd = pd.read_csv('data/diff_view.csv', sep=',')"
   ]
  },
  {
   "cell_type": "code",
   "execution_count": 3,
   "metadata": {},
   "outputs": [
    {
     "data": {
      "text/html": [
       "<div>\n",
       "<style scoped>\n",
       "    .dataframe tbody tr th:only-of-type {\n",
       "        vertical-align: middle;\n",
       "    }\n",
       "\n",
       "    .dataframe tbody tr th {\n",
       "        vertical-align: top;\n",
       "    }\n",
       "\n",
       "    .dataframe thead th {\n",
       "        text-align: right;\n",
       "    }\n",
       "</style>\n",
       "<table border=\"1\" class=\"dataframe\">\n",
       "  <thead>\n",
       "    <tr style=\"text-align: right;\">\n",
       "      <th></th>\n",
       "      <th>hda_result</th>\n",
       "      <th>str_macau_h_diff</th>\n",
       "      <th>str_macau_d_diff</th>\n",
       "      <th>str_macau_a_diff</th>\n",
       "      <th>str_hkjc_h_diff</th>\n",
       "      <th>str_hkjc_d_diff</th>\n",
       "      <th>str_hkjc_a_diff</th>\n",
       "      <th>end_macau_h_diff</th>\n",
       "      <th>end_macau_d_diff</th>\n",
       "      <th>end_macau_a_diff</th>\n",
       "      <th>end_hkjc_h_diff</th>\n",
       "      <th>end_hkjc_d_diff</th>\n",
       "      <th>end_hkjc_a_diff</th>\n",
       "      <th>str_hilo_handicap</th>\n",
       "      <th>str_hilo_fav</th>\n",
       "      <th>end_hilo_handicap</th>\n",
       "      <th>end_hilo_fav</th>\n",
       "    </tr>\n",
       "  </thead>\n",
       "  <tbody>\n",
       "    <tr>\n",
       "      <th>0</th>\n",
       "      <td>A</td>\n",
       "      <td>-0.0145</td>\n",
       "      <td>-0.0040</td>\n",
       "      <td>-0.0632</td>\n",
       "      <td>0.2319</td>\n",
       "      <td>-0.0475</td>\n",
       "      <td>-0.2382</td>\n",
       "      <td>0.3289</td>\n",
       "      <td>-0.0135</td>\n",
       "      <td>-0.4918</td>\n",
       "      <td>0.3289</td>\n",
       "      <td>-0.0295</td>\n",
       "      <td>-0.5173</td>\n",
       "      <td>2.00</td>\n",
       "      <td>1</td>\n",
       "      <td>2.5</td>\n",
       "      <td>1</td>\n",
       "    </tr>\n",
       "    <tr>\n",
       "      <th>1</th>\n",
       "      <td>A</td>\n",
       "      <td>-0.0308</td>\n",
       "      <td>0.0031</td>\n",
       "      <td>-0.0446</td>\n",
       "      <td>-0.1746</td>\n",
       "      <td>0.0266</td>\n",
       "      <td>0.3039</td>\n",
       "      <td>-0.2051</td>\n",
       "      <td>0.1030</td>\n",
       "      <td>0.1898</td>\n",
       "      <td>-0.2301</td>\n",
       "      <td>0.0634</td>\n",
       "      <td>0.2325</td>\n",
       "      <td>2.25</td>\n",
       "      <td>0</td>\n",
       "      <td>2.5</td>\n",
       "      <td>1</td>\n",
       "    </tr>\n",
       "    <tr>\n",
       "      <th>2</th>\n",
       "      <td>A</td>\n",
       "      <td>0.0043</td>\n",
       "      <td>0.0052</td>\n",
       "      <td>-0.0855</td>\n",
       "      <td>0.0277</td>\n",
       "      <td>-0.0709</td>\n",
       "      <td>-0.0947</td>\n",
       "      <td>0.0040</td>\n",
       "      <td>-0.0262</td>\n",
       "      <td>-0.0654</td>\n",
       "      <td>0.0256</td>\n",
       "      <td>-0.1368</td>\n",
       "      <td>-0.0341</td>\n",
       "      <td>2.50</td>\n",
       "      <td>1</td>\n",
       "      <td>2.5</td>\n",
       "      <td>1</td>\n",
       "    </tr>\n",
       "    <tr>\n",
       "      <th>3</th>\n",
       "      <td>A</td>\n",
       "      <td>-0.0142</td>\n",
       "      <td>-0.0032</td>\n",
       "      <td>-0.0504</td>\n",
       "      <td>-0.1004</td>\n",
       "      <td>-0.0446</td>\n",
       "      <td>0.0388</td>\n",
       "      <td>0.1162</td>\n",
       "      <td>-0.0296</td>\n",
       "      <td>-0.1751</td>\n",
       "      <td>0.2238</td>\n",
       "      <td>-0.0953</td>\n",
       "      <td>-0.2442</td>\n",
       "      <td>2.25</td>\n",
       "      <td>0</td>\n",
       "      <td>2.5</td>\n",
       "      <td>1</td>\n",
       "    </tr>\n",
       "    <tr>\n",
       "      <th>4</th>\n",
       "      <td>A</td>\n",
       "      <td>0.0129</td>\n",
       "      <td>-0.0070</td>\n",
       "      <td>-0.0798</td>\n",
       "      <td>0.0713</td>\n",
       "      <td>-0.0470</td>\n",
       "      <td>-0.1608</td>\n",
       "      <td>-0.0813</td>\n",
       "      <td>0.0695</td>\n",
       "      <td>-0.0138</td>\n",
       "      <td>-0.0813</td>\n",
       "      <td>0.0132</td>\n",
       "      <td>-0.0138</td>\n",
       "      <td>2.25</td>\n",
       "      <td>1</td>\n",
       "      <td>2.5</td>\n",
       "      <td>1</td>\n",
       "    </tr>\n",
       "  </tbody>\n",
       "</table>\n",
       "</div>"
      ],
      "text/plain": [
       "  hda_result  str_macau_h_diff  str_macau_d_diff  str_macau_a_diff  \\\n",
       "0          A           -0.0145           -0.0040           -0.0632   \n",
       "1          A           -0.0308            0.0031           -0.0446   \n",
       "2          A            0.0043            0.0052           -0.0855   \n",
       "3          A           -0.0142           -0.0032           -0.0504   \n",
       "4          A            0.0129           -0.0070           -0.0798   \n",
       "\n",
       "   str_hkjc_h_diff  str_hkjc_d_diff  str_hkjc_a_diff  end_macau_h_diff  \\\n",
       "0           0.2319          -0.0475          -0.2382            0.3289   \n",
       "1          -0.1746           0.0266           0.3039           -0.2051   \n",
       "2           0.0277          -0.0709          -0.0947            0.0040   \n",
       "3          -0.1004          -0.0446           0.0388            0.1162   \n",
       "4           0.0713          -0.0470          -0.1608           -0.0813   \n",
       "\n",
       "   end_macau_d_diff  end_macau_a_diff  end_hkjc_h_diff  end_hkjc_d_diff  \\\n",
       "0           -0.0135           -0.4918           0.3289          -0.0295   \n",
       "1            0.1030            0.1898          -0.2301           0.0634   \n",
       "2           -0.0262           -0.0654           0.0256          -0.1368   \n",
       "3           -0.0296           -0.1751           0.2238          -0.0953   \n",
       "4            0.0695           -0.0138          -0.0813           0.0132   \n",
       "\n",
       "   end_hkjc_a_diff  str_hilo_handicap  str_hilo_fav  end_hilo_handicap  \\\n",
       "0          -0.5173               2.00             1                2.5   \n",
       "1           0.2325               2.25             0                2.5   \n",
       "2          -0.0341               2.50             1                2.5   \n",
       "3          -0.2442               2.25             0                2.5   \n",
       "4          -0.0138               2.25             1                2.5   \n",
       "\n",
       "   end_hilo_fav  \n",
       "0             1  \n",
       "1             1  \n",
       "2             1  \n",
       "3             1  \n",
       "4             1  "
      ]
     },
     "execution_count": 3,
     "metadata": {},
     "output_type": "execute_result"
    }
   ],
   "source": [
    "odd.head()"
   ]
  },
  {
   "cell_type": "code",
   "execution_count": 4,
   "metadata": {},
   "outputs": [],
   "source": [
    "# odd.info()"
   ]
  },
  {
   "cell_type": "code",
   "execution_count": 5,
   "metadata": {},
   "outputs": [],
   "source": [
    "# Check null\n",
    "# odd.isnull().sum()"
   ]
  },
  {
   "cell_type": "code",
   "execution_count": 6,
   "metadata": {},
   "outputs": [],
   "source": [
    "# Preprocessing data\n",
    "# bins = (2, 0, 1)\n",
    "# group_names = ['hi','lo']\n",
    "# odd['RESULT'] = \n",
    "# pd.cut([0, 1], bins = 2, labels = group_names)\n",
    "# odd['RESULT'] = pd.cut(odd['RESULT'], bins = 2, labels = group_names)\n",
    "# odd['RESULT'].unique()"
   ]
  },
  {
   "cell_type": "code",
   "execution_count": 7,
   "metadata": {},
   "outputs": [
    {
     "data": {
      "text/plain": [
       "A    207\n",
       "H    118\n",
       "Name: hda_result, dtype: int64"
      ]
     },
     "execution_count": 7,
     "metadata": {},
     "output_type": "execute_result"
    }
   ],
   "source": [
    "odd['hda_result'].value_counts()"
   ]
  },
  {
   "cell_type": "code",
   "execution_count": 8,
   "metadata": {},
   "outputs": [
    {
     "data": {
      "text/plain": [
       "<AxesSubplot:xlabel='hda_result', ylabel='count'>"
      ]
     },
     "execution_count": 8,
     "metadata": {},
     "output_type": "execute_result"
    },
    {
     "data": {
      "image/png": "[encoded data removed]",
      "text/plain": [
       "<Figure size 432x288 with 1 Axes>"
      ]
     },
     "metadata": {
      "needs_background": "light"
     },
     "output_type": "display_data"
    }
   ],
   "source": [
    "sns.countplot(odd['hda_result'])"
   ]
  },
  {
   "cell_type": "code",
   "execution_count": 9,
   "metadata": {},
   "outputs": [],
   "source": [
    "# Now seperate the dataset as response variable and feature variables\n",
    "X = odd.drop('hda_result', axis=1)\n",
    "y = odd['hda_result']"
   ]
  },
  {
   "cell_type": "code",
   "execution_count": 10,
   "metadata": {},
   "outputs": [],
   "source": [
    "# Train and test splitting of data\n",
    "# X_train, X_test, y_train, y_test = train_test_split(X, y, test_size = 0.2, random_state = 42)\n",
    "X_train, X_test, y_train, y_test = train_test_split(X, y, test_size = 0.2)"
   ]
  },
  {
   "cell_type": "code",
   "execution_count": 11,
   "metadata": {},
   "outputs": [],
   "source": [
    "# Applying standard scaling to get optimized result\n",
    "sc = StandardScaler()\n",
    "X_train = sc.fit_transform(X_train)\n",
    "X_test = sc.transform(X_test)"
   ]
  },
  {
   "cell_type": "code",
   "execution_count": 12,
   "metadata": {
    "scrolled": false
   },
   "outputs": [],
   "source": [
    "# X_train[:10]"
   ]
  },
  {
   "cell_type": "markdown",
   "metadata": {},
   "source": [
    "# Random Forest Classifier"
   ]
  },
  {
   "cell_type": "code",
   "execution_count": 13,
   "metadata": {},
   "outputs": [],
   "source": [
    "rfc = RandomForestClassifier(n_estimators=800)\n",
    "rfc.fit(X_train, y_train)\n",
    "pred_rfc = rfc.predict(X_test)"
   ]
  },
  {
   "cell_type": "code",
   "execution_count": 14,
   "metadata": {
    "tags": []
   },
   "outputs": [
    {
     "name": "stdout",
     "output_type": "stream",
     "text": [
      "              precision    recall  f1-score   support\n",
      "\n",
      "           A       0.58      0.86      0.70        36\n",
      "           H       0.58      0.24      0.34        29\n",
      "\n",
      "    accuracy                           0.58        65\n",
      "   macro avg       0.58      0.55      0.52        65\n",
      "weighted avg       0.58      0.58      0.54        65\n",
      "\n",
      "[[31  5]\n",
      " [22  7]]\n"
     ]
    }
   ],
   "source": [
    "# \n",
    "print(classification_report(y_test, pred_rfc))\n",
    "print(confusion_matrix(y_test, pred_rfc))"
   ]
  },
  {
   "cell_type": "code",
   "execution_count": 15,
   "metadata": {
    "tags": []
   },
   "outputs": [
    {
     "name": "stdout",
     "output_type": "stream",
     "text": [
      "score= 0.5846153846153846\n"
     ]
    }
   ],
   "source": [
    "print('score=', accuracy_score(y_test, pred_rfc))"
   ]
  },
  {
   "cell_type": "markdown",
   "metadata": {},
   "source": [
    "# SVM Classifier"
   ]
  },
  {
   "cell_type": "code",
   "execution_count": 16,
   "metadata": {},
   "outputs": [],
   "source": [
    "clf = svm.SVC()\n",
    "clf.fit(X_train, y_train)\n",
    "pred_clf = clf.predict(X_test)"
   ]
  },
  {
   "cell_type": "code",
   "execution_count": 17,
   "metadata": {
    "tags": []
   },
   "outputs": [
    {
     "name": "stdout",
     "output_type": "stream",
     "text": [
      "              precision    recall  f1-score   support\n",
      "\n",
      "           A       0.55      0.97      0.70        36\n",
      "           H       0.00      0.00      0.00        29\n",
      "\n",
      "    accuracy                           0.54        65\n",
      "   macro avg       0.27      0.49      0.35        65\n",
      "weighted avg       0.30      0.54      0.39        65\n",
      "\n",
      "[[35  1]\n",
      " [29  0]]\n"
     ]
    }
   ],
   "source": [
    "# \n",
    "print(classification_report(y_test, pred_clf))\n",
    "print(confusion_matrix(y_test, pred_clf))"
   ]
  },
  {
   "cell_type": "code",
   "execution_count": 18,
   "metadata": {
    "tags": []
   },
   "outputs": [
    {
     "name": "stdout",
     "output_type": "stream",
     "text": [
      "score= 0.5384615384615384\n"
     ]
    }
   ],
   "source": [
    "print('score=', accuracy_score(y_test, pred_clf))"
   ]
  },
  {
   "cell_type": "markdown",
   "metadata": {},
   "source": [
    "# Neural Network"
   ]
  },
  {
   "cell_type": "code",
   "execution_count": 19,
   "metadata": {},
   "outputs": [
    {
     "name": "stderr",
     "output_type": "stream",
     "text": [
      "C:\\Users\\willi\\AppData\\Local\\Programs\\Python\\Python38\\lib\\site-packages\\sklearn\\neural_network\\_multilayer_perceptron.py:582: ConvergenceWarning: Stochastic Optimizer: Maximum iterations (800) reached and the optimization hasn't converged yet.\n",
      "  warnings.warn(\n"
     ]
    }
   ],
   "source": [
    "mlpc=MLPClassifier(hidden_layer_sizes=(11,11,11),max_iter=800)\n",
    "mlpc.fit(X_train, y_train)\n",
    "pred_mlpc = mlpc.predict(X_test)"
   ]
  },
  {
   "cell_type": "code",
   "execution_count": 20,
   "metadata": {
    "scrolled": false,
    "tags": []
   },
   "outputs": [
    {
     "name": "stdout",
     "output_type": "stream",
     "text": [
      "              precision    recall  f1-score   support\n",
      "\n",
      "           A       0.57      0.69      0.62        36\n",
      "           H       0.48      0.34      0.40        29\n",
      "\n",
      "    accuracy                           0.54        65\n",
      "   macro avg       0.52      0.52      0.51        65\n",
      "weighted avg       0.53      0.54      0.52        65\n",
      "\n",
      "[[25 11]\n",
      " [19 10]]\n"
     ]
    }
   ],
   "source": [
    "print(classification_report(y_test, pred_mlpc))\n",
    "print(confusion_matrix(y_test, pred_mlpc))"
   ]
  },
  {
   "cell_type": "code",
   "execution_count": 21,
   "metadata": {
    "tags": []
   },
   "outputs": [
    {
     "name": "stdout",
     "output_type": "stream",
     "text": [
      "score= 0.5384615384615384\n"
     ]
    }
   ],
   "source": [
    "print('score=', accuracy_score(y_test, pred_mlpc))"
   ]
  },
  {
   "cell_type": "code",
   "execution_count": 22,
   "metadata": {
    "tags": []
   },
   "outputs": [
    {
     "ename": "ValueError",
     "evalue": "X has 52 features, but this StandardScaler is expecting 16 features as input.",
     "output_type": "error",
     "traceback": [
      "\u001b[1;31m---------------------------------------------------------------------------\u001b[0m",
      "\u001b[1;31mValueError\u001b[0m                                Traceback (most recent call last)",
      "\u001b[1;32m<ipython-input-22-ff57cfe9fe70>\u001b[0m in \u001b[0;36m<module>\u001b[1;34m\u001b[0m\n\u001b[0;32m     14\u001b[0m \u001b[0mXnew\u001b[0m \u001b[1;33m=\u001b[0m \u001b[1;33m[\u001b[0m\u001b[1;33m[\u001b[0m\u001b[1;36m1\u001b[0m\u001b[1;33m,\u001b[0m\u001b[1;36m1.62\u001b[0m\u001b[1;33m,\u001b[0m\u001b[1;36m1.615\u001b[0m\u001b[1;33m,\u001b[0m\u001b[1;36m3.89\u001b[0m\u001b[1;33m,\u001b[0m\u001b[1;36m3.9\u001b[0m\u001b[1;33m,\u001b[0m\u001b[1;36m4.62\u001b[0m\u001b[1;33m,\u001b[0m\u001b[1;36m4.625\u001b[0m\u001b[1;33m,\u001b[0m\u001b[1;36m1.65\u001b[0m\u001b[1;33m,\u001b[0m\u001b[1;36m3.65\u001b[0m\u001b[1;33m,\u001b[0m\u001b[1;36m4.05\u001b[0m\u001b[1;33m,\u001b[0m\u001b[1;36m1.69\u001b[0m\u001b[1;33m,\u001b[0m\u001b[1;36m3.55\u001b[0m\u001b[1;33m,\u001b[0m\u001b[1;36m4\u001b[0m\u001b[1;33m,\u001b[0m\u001b[1;36m1\u001b[0m\u001b[1;33m,\u001b[0m\u001b[1;36m2.2764\u001b[0m\u001b[1;33m,\u001b[0m\u001b[1;36m2.26\u001b[0m\u001b[1;33m,\u001b[0m\u001b[1;36m3.3179\u001b[0m\u001b[1;33m,\u001b[0m\u001b[1;36m3.35\u001b[0m\u001b[1;33m,\u001b[0m\u001b[1;36m2.88\u001b[0m\u001b[1;33m,\u001b[0m\u001b[1;36m2.83\u001b[0m\u001b[1;33m,\u001b[0m\u001b[1;36m2.15\u001b[0m\u001b[1;33m,\u001b[0m\u001b[1;36m3.35\u001b[0m\u001b[1;33m,\u001b[0m\u001b[1;36m2.75\u001b[0m\u001b[1;33m,\u001b[0m\u001b[1;36m2.15\u001b[0m\u001b[1;33m,\u001b[0m\u001b[1;36m3.3\u001b[0m\u001b[1;33m,\u001b[0m\u001b[1;36m2.8\u001b[0m\u001b[1;33m,\u001b[0m\u001b[1;36m2.75\u001b[0m\u001b[1;33m,\u001b[0m\u001b[1;36m.74\u001b[0m\u001b[1;33m,\u001b[0m\u001b[1;36m.86\u001b[0m\u001b[1;33m,\u001b[0m\u001b[1;36m2.5\u001b[0m\u001b[1;33m,\u001b[0m\u001b[1;36m.75\u001b[0m\u001b[1;33m,\u001b[0m\u001b[1;36m.95\u001b[0m\u001b[1;33m,\u001b[0m\u001b[1;36m1.5\u001b[0m\u001b[1;33m,\u001b[0m\u001b[1;36m1.2\u001b[0m\u001b[1;33m,\u001b[0m\u001b[1;36m.35\u001b[0m\u001b[1;33m,\u001b[0m\u001b[1;36m2.5\u001b[0m\u001b[1;33m,\u001b[0m\u001b[1;36m.8\u001b[0m\u001b[1;33m,\u001b[0m\u001b[1;36m.9\u001b[0m\u001b[1;33m,\u001b[0m\u001b[1;36m10\u001b[0m\u001b[1;33m,\u001b[0m\u001b[1;36m.75\u001b[0m\u001b[1;33m,\u001b[0m\u001b[1;36m.875\u001b[0m\u001b[1;33m,\u001b[0m\u001b[1;36m.875\u001b[0m\u001b[1;33m,\u001b[0m\u001b[1;36m.75\u001b[0m\u001b[1;33m,\u001b[0m\u001b[1;36m.85\u001b[0m\u001b[1;33m,\u001b[0m\u001b[1;36m.85\u001b[0m\u001b[1;33m,\u001b[0m\u001b[1;36m14\u001b[0m\u001b[1;33m,\u001b[0m\u001b[1;36m.25\u001b[0m\u001b[1;33m,\u001b[0m\u001b[1;36m1.04\u001b[0m\u001b[1;33m,\u001b[0m\u001b[1;36m1.055\u001b[0m\u001b[1;33m,\u001b[0m\u001b[1;36m.25\u001b[0m\u001b[1;33m,\u001b[0m\u001b[1;36m.92\u001b[0m\u001b[1;33m,\u001b[0m\u001b[1;36m.78\u001b[0m\u001b[1;33m]\u001b[0m\u001b[1;33m]\u001b[0m\u001b[1;33m\u001b[0m\u001b[1;33m\u001b[0m\u001b[0m\n\u001b[0;32m     15\u001b[0m \u001b[1;33m\u001b[0m\u001b[0m\n\u001b[1;32m---> 16\u001b[1;33m \u001b[0mXnew\u001b[0m \u001b[1;33m=\u001b[0m \u001b[0msc\u001b[0m\u001b[1;33m.\u001b[0m\u001b[0mtransform\u001b[0m\u001b[1;33m(\u001b[0m\u001b[0mXnew\u001b[0m\u001b[1;33m)\u001b[0m\u001b[1;33m\u001b[0m\u001b[1;33m\u001b[0m\u001b[0m\n\u001b[0m\u001b[0;32m     17\u001b[0m \u001b[1;33m\u001b[0m\u001b[0m\n\u001b[0;32m     18\u001b[0m \u001b[0mynew\u001b[0m \u001b[1;33m=\u001b[0m \u001b[0mrfc\u001b[0m\u001b[1;33m.\u001b[0m\u001b[0mpredict\u001b[0m\u001b[1;33m(\u001b[0m\u001b[0mXnew\u001b[0m\u001b[1;33m)\u001b[0m\u001b[1;33m\u001b[0m\u001b[1;33m\u001b[0m\u001b[0m\n",
      "\u001b[1;32m~\\AppData\\Local\\Programs\\Python\\Python38\\lib\\site-packages\\sklearn\\preprocessing\\_data.py\u001b[0m in \u001b[0;36mtransform\u001b[1;34m(self, X, copy)\u001b[0m\n\u001b[0;32m    789\u001b[0m \u001b[1;33m\u001b[0m\u001b[0m\n\u001b[0;32m    790\u001b[0m         \u001b[0mcopy\u001b[0m \u001b[1;33m=\u001b[0m \u001b[0mcopy\u001b[0m \u001b[1;32mif\u001b[0m \u001b[0mcopy\u001b[0m \u001b[1;32mis\u001b[0m \u001b[1;32mnot\u001b[0m \u001b[1;32mNone\u001b[0m \u001b[1;32melse\u001b[0m \u001b[0mself\u001b[0m\u001b[1;33m.\u001b[0m\u001b[0mcopy\u001b[0m\u001b[1;33m\u001b[0m\u001b[1;33m\u001b[0m\u001b[0m\n\u001b[1;32m--> 791\u001b[1;33m         X = self._validate_data(X, reset=False,\n\u001b[0m\u001b[0;32m    792\u001b[0m                                 \u001b[0maccept_sparse\u001b[0m\u001b[1;33m=\u001b[0m\u001b[1;34m'csr'\u001b[0m\u001b[1;33m,\u001b[0m \u001b[0mcopy\u001b[0m\u001b[1;33m=\u001b[0m\u001b[0mcopy\u001b[0m\u001b[1;33m,\u001b[0m\u001b[1;33m\u001b[0m\u001b[1;33m\u001b[0m\u001b[0m\n\u001b[0;32m    793\u001b[0m                                 \u001b[0mestimator\u001b[0m\u001b[1;33m=\u001b[0m\u001b[0mself\u001b[0m\u001b[1;33m,\u001b[0m \u001b[0mdtype\u001b[0m\u001b[1;33m=\u001b[0m\u001b[0mFLOAT_DTYPES\u001b[0m\u001b[1;33m,\u001b[0m\u001b[1;33m\u001b[0m\u001b[1;33m\u001b[0m\u001b[0m\n",
      "\u001b[1;32m~\\AppData\\Local\\Programs\\Python\\Python38\\lib\\site-packages\\sklearn\\base.py\u001b[0m in \u001b[0;36m_validate_data\u001b[1;34m(self, X, y, reset, validate_separately, **check_params)\u001b[0m\n\u001b[0;32m    434\u001b[0m \u001b[1;33m\u001b[0m\u001b[0m\n\u001b[0;32m    435\u001b[0m         \u001b[1;32mif\u001b[0m \u001b[0mcheck_params\u001b[0m\u001b[1;33m.\u001b[0m\u001b[0mget\u001b[0m\u001b[1;33m(\u001b[0m\u001b[1;34m'ensure_2d'\u001b[0m\u001b[1;33m,\u001b[0m \u001b[1;32mTrue\u001b[0m\u001b[1;33m)\u001b[0m\u001b[1;33m:\u001b[0m\u001b[1;33m\u001b[0m\u001b[1;33m\u001b[0m\u001b[0m\n\u001b[1;32m--> 436\u001b[1;33m             \u001b[0mself\u001b[0m\u001b[1;33m.\u001b[0m\u001b[0m_check_n_features\u001b[0m\u001b[1;33m(\u001b[0m\u001b[0mX\u001b[0m\u001b[1;33m,\u001b[0m \u001b[0mreset\u001b[0m\u001b[1;33m=\u001b[0m\u001b[0mreset\u001b[0m\u001b[1;33m)\u001b[0m\u001b[1;33m\u001b[0m\u001b[1;33m\u001b[0m\u001b[0m\n\u001b[0m\u001b[0;32m    437\u001b[0m \u001b[1;33m\u001b[0m\u001b[0m\n\u001b[0;32m    438\u001b[0m         \u001b[1;32mreturn\u001b[0m \u001b[0mout\u001b[0m\u001b[1;33m\u001b[0m\u001b[1;33m\u001b[0m\u001b[0m\n",
      "\u001b[1;32m~\\AppData\\Local\\Programs\\Python\\Python38\\lib\\site-packages\\sklearn\\base.py\u001b[0m in \u001b[0;36m_check_n_features\u001b[1;34m(self, X, reset)\u001b[0m\n\u001b[0;32m    375\u001b[0m                 )\n\u001b[0;32m    376\u001b[0m             \u001b[1;32mif\u001b[0m \u001b[0mn_features\u001b[0m \u001b[1;33m!=\u001b[0m \u001b[0mself\u001b[0m\u001b[1;33m.\u001b[0m\u001b[0mn_features_in_\u001b[0m\u001b[1;33m:\u001b[0m\u001b[1;33m\u001b[0m\u001b[1;33m\u001b[0m\u001b[0m\n\u001b[1;32m--> 377\u001b[1;33m                 raise ValueError(\n\u001b[0m\u001b[0;32m    378\u001b[0m                     \u001b[1;34m'X has {} features, but this {} is expecting {} features '\u001b[0m\u001b[1;33m\u001b[0m\u001b[1;33m\u001b[0m\u001b[0m\n\u001b[0;32m    379\u001b[0m                     'as input.'.format(n_features, self.__class__.__name__,\n",
      "\u001b[1;31mValueError\u001b[0m: X has 52 features, but this StandardScaler is expecting 16 features as input."
     ]
    }
   ],
   "source": [
    "# # 瑞典超 奧雷布洛 馬模 1 1 (AAH)\n",
    "# Xnew = [[0,5.7371,5.5,4.32,4.3,1.4671,1.465,5.35,4.35,1.43,6.7,4.5,1.33,0,7.7179,7.675,5.2093,5.275,1.35,1.355,6.3,5,1.32,6.7,4.6,1.32,3,.93,.77,3.5,1.33,.53,4.5,.7,.95,3.5,1.15,.62,11,-1,1.0027,1.01,-1,1.06,.74,12,-1.5,.9208,.92,-1.5,.84,.96]]\n",
    "# # 智利甲 奧達斯 塞雷那 2 1 0 0 上盤 H (AAH)\n",
    "# Xnew = [[1,1.8529,1.84,3.5921,3.625,3.6607,3.735,1.88,3.48,3.28,1.92,3.45,3.2,1,2.1843,2.2,3.4236,3.465,2.9564,3,1.94,3.48,3.05,2.1,3.4,2.85,2.75,.87,.73,2.5,.68,1.05,3.5,1.15,.4,2.5,.72,1,9,.5,.8956,.9,.5,.9,.8,12,.25,.9767,.98,.5,1,.7]]\n",
    "# # 墨西聯春 拿根亞 普馬斯 1 2 0 1 A (A)\n",
    "# Xnew = [[1,1.86,1.865,3.5929,3.575,3.7929,3.7,1.87,3.6,3.35,1.9,3.4,3.3,1,2.0514,2.09,3.4571,3.475,3.3236,3.2,1.95,3.6,3.12,1.9,3.4,3.3,2.75,.95,.75,2.5,.68,1.05,3.5,1.35,.3,2.5,.68,1.05,12,.5,.8817,.87,.5,.92,.88,11,.5,1.07,1.09,.5,1,.8]]\n",
    "# # 巴西甲 山度士 明尼路 3 1 2 1 主 H (A)\n",
    "# Xnew = [[0,2.9107,2.99,3.235,3.225,2.3386,2.28,2.98,3.41,2.07,3.4,3.35,1.88,0,4.1543,4.25,3.8707,3.9,1.7636,1.755,4.1,3.5,1.72,3.75,3.5,1.75,2.25,.7,1,2.5,.83,.87,2.75,.8,.9,2.5,.65,1.1,7,0,.9657,.87,-.25,.94,.86,11,-.75,.8755,.88,-.5,1.04,.76]]\n",
    "# # 巴西甲 富明尼斯 法林明高 1 2 0 2 A (A)\n",
    "# Xnew = [[0,4.4979,4.525,3.4043,3.4,1.7436,1.745,4,3.5,1.74,4.65,3.4,1.63,0,5.4164,5.5,3.7093,3.75,1.6257,1.64,5.3,3.6,1.55,5,3.55,1.56,2.25,.9,.8,2.5,1.02,.7,2.25,.9,.8,2.5,1,.72,13,-.75,.8762,.87,-.75,.81,.99,13,-.75,1.0238,1.02,-.75,1.02,.78]]\n",
    "# # 法甲 朗斯 巴黎聖日門 (AAH)\n",
    "# Xnew = [[0,8.7536,8.875,6.195,6.3,1.2693,1.245,7.55,6.3,1.23,4.3,3.4,1.68,0,4.8171,4.8,3.76,3.85,1.6914,1.71,4.85,3.55,1.6,4.75,3.5,1.59,3.75,.93,.77,2.5,.9,.8,2.5,.85,.85,2.5,.85,.85,7,-2,.8057,.83,-2,.72,1.08,14,-.75,.9443,.94,-.75,.94,.86]]\n",
    "# # 智利甲 高路高路 奧希金斯 0 1 0 1 A (HAH)\n",
    "Xnew = [[1,1.62,1.615,3.89,3.9,4.62,4.625,1.65,3.65,4.05,1.69,3.55,4,1,2.2764,2.26,3.3179,3.35,2.88,2.83,2.15,3.35,2.75,2.15,3.3,2.8,2.75,.74,.86,2.5,.75,.95,1.5,1.2,.35,2.5,.8,.9,10,.75,.875,.875,.75,.85,.85,14,.25,1.04,1.055,.25,.92,.78]]\n",
    "\n",
    "Xnew = sc.transform(Xnew)\n",
    "\n",
    "ynew = rfc.predict(Xnew)\n",
    "print('rfc: ', ynew)\n",
    "ynew = clf.predict(Xnew)\n",
    "print('svm: ', ynew)\n",
    "ynew = mlpc.predict(Xnew)\n",
    "print('mlpc: ', ynew)"
   ]
  },
  {
   "cell_type": "code",
   "execution_count": null,
   "metadata": {},
   "outputs": [],
   "source": []
  }
 ],
 "metadata": {
  "kernelspec": {
   "display_name": "Python 3",
   "language": "python",
   "name": "python3"
  },
  "language_info": {
   "codemirror_mode": {
    "name": "ipython",
    "version": 3
   },
   "file_extension": ".py",
   "mimetype": "text/x-python",
   "name": "python",
   "nbconvert_exporter": "python",
   "pygments_lexer": "ipython3",
   "version": "3.8.5"
  }
 },
 "nbformat": 4,
 "nbformat_minor": 4
}
